{
 "cells": [
  {
   "cell_type": "markdown",
   "metadata": {},
   "source": [
    "## Auxiliary Notebook: Identify Keywords in tweets using Gensim\n",
    "-----\n",
    "By Juan Equihua on April 10th, 2022.\n",
    "\n",
    "This notebook examplify the use of the code written in /utils/query_similar.py , this code uses the gensim library to identify which documents in the dataset (tweets) are the most similar to a given user query. \n",
    "\n",
    "---"
   ]
  },
  {
   "cell_type": "code",
   "execution_count": 3,
   "metadata": {},
   "outputs": [],
   "source": [
    "## Import code from utilities:\n",
    "from utils.utilities import *\n",
    "from utils.query_similar import *"
   ]
  },
  {
   "cell_type": "code",
   "execution_count": 4,
   "metadata": {},
   "outputs": [],
   "source": [
    "## Load data:\n",
    "data_path = './Data/data.csv'\n",
    "data = load_data(data_path)"
   ]
  },
  {
   "cell_type": "code",
   "execution_count": 5,
   "metadata": {},
   "outputs": [],
   "source": [
    "## Define user query:\n",
    "query = 'Average income in the UK is lower than ever'"
   ]
  },
  {
   "cell_type": "code",
   "execution_count": 6,
   "metadata": {},
   "outputs": [
    {
     "name": "stderr",
     "output_type": "stream",
     "text": [
      "2022-04-10 18:02:13.357 INFO    gensim.corpora.dictionary: adding document #0 to Dictionary(0 unique tokens: [])\n",
      "2022-04-10 18:02:13.450 INFO    gensim.corpora.dictionary: built Dictionary(3176 unique tokens: [',', 'add', 'after', 'delivered', 'during']...) from 1000 documents (total 32557 corpus positions)\n",
      "2022-04-10 18:02:13.484 INFO    gensim.utils: Dictionary lifecycle event {'msg': \"built Dictionary(3176 unique tokens: [',', 'add', 'after', 'delivered', 'during']...) from 1000 documents (total 32557 corpus positions)\", 'datetime': '2022-04-10T18:02:13.452289', 'gensim': '4.0.1', 'python': '3.7.6 (default, Jan  8 2020, 13:42:34) \\n[Clang 4.0.1 (tags/RELEASE_401/final)]', 'platform': 'Darwin-21.3.0-x86_64-i386-64bit', 'event': 'created'}\n",
      "2022-04-10 18:02:13.517 INFO    gensim.models.lsimodel: using serial LSI version on this node\n",
      "2022-04-10 18:02:13.518 INFO    gensim.models.lsimodel: updating model with new documents\n",
      "2022-04-10 18:02:13.519 INFO    gensim.models.lsimodel: preparing a new chunk of documents\n",
      "2022-04-10 18:02:13.539 INFO    gensim.models.lsimodel: using 100 extra samples and 2 power iterations\n",
      "2022-04-10 18:02:13.543 INFO    gensim.models.lsimodel: 1st phase: constructing (3176, 102) action matrix\n",
      "2022-04-10 18:02:13.565 INFO    gensim.models.lsimodel: orthonormalizing (3176, 102) action matrix\n",
      "2022-04-10 18:02:13.660 INFO    gensim.models.lsimodel: 2nd phase: running dense svd on (102, 1000) matrix\n",
      "2022-04-10 18:02:13.688 INFO    gensim.models.lsimodel: computing the final decomposition\n",
      "2022-04-10 18:02:13.688 INFO    gensim.models.lsimodel: keeping 2 factors (discarding 51.257% of energy spectrum)\n",
      "2022-04-10 18:02:13.701 INFO    gensim.models.lsimodel: processed documents up to #1000\n",
      "2022-04-10 18:02:13.705 INFO    gensim.models.lsimodel: topic #0(116.897): 0.968*\",\" + 0.086*\"is\" + 0.058*\"pay\" + 0.053*\"are\" + 0.051*\"that\" + 0.050*\"you\" + 0.046*\"will\" + 0.044*\"they\" + 0.043*\"on\" + 0.043*\"people\"\n",
      "2022-04-10 18:02:13.708 INFO    gensim.models.lsimodel: topic #1(52.425): 0.373*\"is\" + 0.285*\"pay\" + 0.251*\"are\" + -0.241*\",\" + 0.194*\"that\" + 0.187*\"on\" + 0.176*\"not\" + 0.173*\"have\" + 0.161*\"will\" + 0.153*\"i\"\n",
      "2022-04-10 18:02:13.712 INFO    gensim.utils: LsiModel lifecycle event {'msg': 'trained LsiModel(num_terms=3176, num_topics=2, decay=1.0, chunksize=20000) in 0.19s', 'datetime': '2022-04-10T18:02:13.712518', 'gensim': '4.0.1', 'python': '3.7.6 (default, Jan  8 2020, 13:42:34) \\n[Clang 4.0.1 (tags/RELEASE_401/final)]', 'platform': 'Darwin-21.3.0-x86_64-i386-64bit', 'event': 'created'}\n",
      "2022-04-10 18:02:13.716 WARNING gensim.similarities.docsim: scanning corpus to determine the number of features (consider setting `num_features` explicitly)\n",
      "2022-04-10 18:02:13.755 INFO    gensim.similarities.docsim: creating matrix with 1000 documents and 2 features\n",
      "2022-04-10 18:02:13.812 INFO    gensim.utils: MatrixSimilarity lifecycle event {'fname_or_handle': '/tmp/deerwester.index', 'separately': 'None', 'sep_limit': 10485760, 'ignore': frozenset(), 'datetime': '2022-04-10T18:02:13.812946', 'gensim': '4.0.1', 'python': '3.7.6 (default, Jan  8 2020, 13:42:34) \\n[Clang 4.0.1 (tags/RELEASE_401/final)]', 'platform': 'Darwin-21.3.0-x86_64-i386-64bit', 'event': 'saving'}\n",
      "2022-04-10 18:02:13.816 INFO    gensim.utils: saved /tmp/deerwester.index\n",
      "2022-04-10 18:02:13.822 INFO    gensim.utils: loading MatrixSimilarity object from /tmp/deerwester.index\n",
      "2022-04-10 18:02:13.826 INFO    gensim.utils: MatrixSimilarity lifecycle event {'fname': '/tmp/deerwester.index', 'datetime': '2022-04-10T18:02:13.826889', 'gensim': '4.0.1', 'python': '3.7.6 (default, Jan  8 2020, 13:42:34) \\n[Clang 4.0.1 (tags/RELEASE_401/final)]', 'platform': 'Darwin-21.3.0-x86_64-i386-64bit', 'event': 'loaded'}\n"
     ]
    }
   ],
   "source": [
    "## Find top 10 most similar tweets:\n",
    "similar_tweets = get_similar_tweets_to_text_string(data.body, query, rank = 10, return_as_dataframe = True)\n"
   ]
  },
  {
   "cell_type": "code",
   "execution_count": 7,
   "metadata": {},
   "outputs": [
    {
     "data": {
      "text/html": [
       "<div>\n",
       "<style scoped>\n",
       "    .dataframe tbody tr th:only-of-type {\n",
       "        vertical-align: middle;\n",
       "    }\n",
       "\n",
       "    .dataframe tbody tr th {\n",
       "        vertical-align: top;\n",
       "    }\n",
       "\n",
       "    .dataframe thead th {\n",
       "        text-align: right;\n",
       "    }\n",
       "</style>\n",
       "<table border=\"1\" class=\"dataframe\">\n",
       "  <thead>\n",
       "    <tr style=\"text-align: right;\">\n",
       "      <th></th>\n",
       "      <th>Top similar tweets</th>\n",
       "    </tr>\n",
       "  </thead>\n",
       "  <tbody>\n",
       "    <tr>\n",
       "      <th>0</th>\n",
       "      <td>The problem with the dementia tax was that it ...</td>\n",
       "    </tr>\n",
       "    <tr>\n",
       "      <th>1</th>\n",
       "      <td>Madness all round! Something so seriously wron...</td>\n",
       "    </tr>\n",
       "    <tr>\n",
       "      <th>2</th>\n",
       "      <td>Bus franchising is now inevitable, but what wi...</td>\n",
       "    </tr>\n",
       "    <tr>\n",
       "      <th>3</th>\n",
       "      <td>Moreover, over 400,000 lowincome private renti...</td>\n",
       "    </tr>\n",
       "    <tr>\n",
       "      <th>4</th>\n",
       "      <td>I think it’s fair to say that the pay rise off...</td>\n",
       "    </tr>\n",
       "    <tr>\n",
       "      <th>5</th>\n",
       "      <td>Used to like Gary Barlow. Until he avoided tax...</td>\n",
       "    </tr>\n",
       "    <tr>\n",
       "      <th>6</th>\n",
       "      <td>Starmer’s timid, uninspiring leadership, his c...</td>\n",
       "    </tr>\n",
       "    <tr>\n",
       "      <th>7</th>\n",
       "      <td>My electricity and gas payment went up by £30 ...</td>\n",
       "    </tr>\n",
       "    <tr>\n",
       "      <th>8</th>\n",
       "      <td>it’s the way people think poor and homeless pe...</td>\n",
       "    </tr>\n",
       "    <tr>\n",
       "      <th>9</th>\n",
       "      <td>Once enough of our NHS is handed over to US he...</td>\n",
       "    </tr>\n",
       "  </tbody>\n",
       "</table>\n",
       "</div>"
      ],
      "text/plain": [
       "                                  Top similar tweets\n",
       "0  The problem with the dementia tax was that it ...\n",
       "1  Madness all round! Something so seriously wron...\n",
       "2  Bus franchising is now inevitable, but what wi...\n",
       "3  Moreover, over 400,000 lowincome private renti...\n",
       "4  I think it’s fair to say that the pay rise off...\n",
       "5  Used to like Gary Barlow. Until he avoided tax...\n",
       "6  Starmer’s timid, uninspiring leadership, his c...\n",
       "7  My electricity and gas payment went up by £30 ...\n",
       "8  it’s the way people think poor and homeless pe...\n",
       "9  Once enough of our NHS is handed over to US he..."
      ]
     },
     "execution_count": 7,
     "metadata": {},
     "output_type": "execute_result"
    }
   ],
   "source": [
    "similar_tweets"
   ]
  },
  {
   "cell_type": "code",
   "execution_count": 11,
   "metadata": {},
   "outputs": [
    {
     "data": {
      "text/plain": [
       "['vital public services',\n",
       " 'pandemic government workers',\n",
       " 'delivered vital public',\n",
       " 'public services',\n",
       " 'keeping us safe',\n",
       " 'safe and secure',\n",
       " 'pandemic government',\n",
       " 'government workers',\n",
       " 'workers have delivered',\n",
       " 'delivered vital']"
      ]
     },
     "execution_count": 11,
     "metadata": {},
     "output_type": "execute_result"
    }
   ],
   "source": [
    "## Use Keyword extractor on single docuument:\n",
    "kw_extractor = yake.KeywordExtractor()\n",
    "keyword_extractor(kw_extractor, data.body[0])"
   ]
  },
  {
   "cell_type": "code",
   "execution_count": null,
   "metadata": {},
   "outputs": [],
   "source": []
  }
 ],
 "metadata": {
  "kernelspec": {
   "display_name": "Python 3",
   "language": "python",
   "name": "python3"
  },
  "language_info": {
   "codemirror_mode": {
    "name": "ipython",
    "version": 3
   },
   "file_extension": ".py",
   "mimetype": "text/x-python",
   "name": "python",
   "nbconvert_exporter": "python",
   "pygments_lexer": "ipython3",
   "version": "3.7.6"
  }
 },
 "nbformat": 4,
 "nbformat_minor": 4
}
