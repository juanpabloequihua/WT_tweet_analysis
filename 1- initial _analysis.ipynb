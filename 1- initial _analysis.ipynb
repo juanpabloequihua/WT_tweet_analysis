{
 "cells": [
  {
   "cell_type": "code",
   "execution_count": 1,
   "metadata": {},
   "outputs": [],
   "source": [
    "from utils.utilities import *\n",
    "from transformers import pipeline"
   ]
  },
  {
   "cell_type": "code",
   "execution_count": 2,
   "metadata": {},
   "outputs": [],
   "source": [
    "### Parameters:\n",
    "\n",
    "data_path = './Data/data.csv'"
   ]
  },
  {
   "cell_type": "code",
   "execution_count": 49,
   "metadata": {},
   "outputs": [
    {
     "name": "stderr",
     "output_type": "stream",
     "text": [
      "No model was supplied, defaulted to distilbert-base-uncased-finetuned-sst-2-english (https://huggingface.co/distilbert-base-uncased-finetuned-sst-2-english)\n"
     ]
    }
   ],
   "source": [
    "\n",
    "def load_data(path):\n",
    "    \n",
    "    '''\n",
    "    Function to load data into a Pandas DataFrame and clean date \n",
    "    '''\n",
    "    data = pd.read_csv(path)\n",
    "    data.published_date = pd.to_datetime(data.published_date)\n",
    "    \n",
    "    return data\n",
    "\n",
    "def transformer_sentiment(sentiment_classifier, text):\n",
    "    '''\n",
    "    Predict sentiment of any text.\n",
    "    '''\n",
    "    return sentiment_classifier(text)[0]['label']\n",
    "\n",
    "def assign_transformer_sentiment(data, sentiment_classifier):\n",
    "    '''\n",
    "    Assign new sentiment label to each tweet in the dataset.\n",
    "    '''\n",
    "    ## Use pre-trained transformer 'pipeline' from Huggingface to assign new sentiment to each tweet.\n",
    "    ## Ref: https://github.com/huggingface/transformers\n",
    "    \n",
    "    \n",
    "    data['transformer_sentiment'] = [transformer_sentiment(sentiment_classifier, x) for x in data.body]\n",
    "    return data\n",
    "\n",
    "def keyword_extractor(kw_extractor, text, top = 10):\n",
    "    \n",
    "    '''\n",
    "    Extract the top n key words of a text with Yake library.\n",
    "    https://github.com/LIAAD/yake\n",
    "    '''\n",
    "    keywords = kw_extractor.extract_keywords(text)\n",
    "    keywords_list = [x[0] for x in keywords[:top]]\n",
    "    \n",
    "    return keywords_list\n",
    "\n",
    "sentiment_classifier = pipeline('sentiment-analysis')\n",
    "summarizer = pipeline(\"summarization\", model=\"facebook/bart-large-cnn\")\n",
    "    "
   ]
  },
  {
   "cell_type": "code",
   "execution_count": 4,
   "metadata": {},
   "outputs": [],
   "source": [
    "data = load_data(data_path)"
   ]
  },
  {
   "cell_type": "code",
   "execution_count": 21,
   "metadata": {},
   "outputs": [
    {
     "name": "stderr",
     "output_type": "stream",
     "text": [
      "No model was supplied, defaulted to distilbert-base-uncased-finetuned-sst-2-english (https://huggingface.co/distilbert-base-uncased-finetuned-sst-2-english)\n"
     ]
    }
   ],
   "source": [
    "data = assign_transformer_sentiment(data, sentiment_classifier)"
   ]
  },
  {
   "cell_type": "code",
   "execution_count": 50,
   "metadata": {},
   "outputs": [],
   "source": [
    "## Extract Keywords:\n",
    "\n",
    "kw_extractor = yake.KeywordExtractor()\n",
    "data['keywords'] = [keyword_extractor(kw_extractor, x) for x in data.body]"
   ]
  },
  {
   "cell_type": "code",
   "execution_count": 51,
   "metadata": {},
   "outputs": [
    {
     "data": {
      "text/html": [
       "<div>\n",
       "<style scoped>\n",
       "    .dataframe tbody tr th:only-of-type {\n",
       "        vertical-align: middle;\n",
       "    }\n",
       "\n",
       "    .dataframe tbody tr th {\n",
       "        vertical-align: top;\n",
       "    }\n",
       "\n",
       "    .dataframe thead th {\n",
       "        text-align: right;\n",
       "    }\n",
       "</style>\n",
       "<table border=\"1\" class=\"dataframe\">\n",
       "  <thead>\n",
       "    <tr style=\"text-align: right;\">\n",
       "      <th></th>\n",
       "      <th>body</th>\n",
       "      <th>clusters_0</th>\n",
       "      <th>sentiment_positive_score</th>\n",
       "      <th>sentiment_negative_score</th>\n",
       "      <th>sentiment_combined_score</th>\n",
       "      <th>sentiment_summary</th>\n",
       "      <th>published_date</th>\n",
       "      <th>post_type</th>\n",
       "      <th>total_engagement</th>\n",
       "      <th>comments</th>\n",
       "      <th>shares</th>\n",
       "      <th>likes</th>\n",
       "      <th>author_gender</th>\n",
       "      <th>followers</th>\n",
       "      <th>transformer_sentiment</th>\n",
       "      <th>keywords</th>\n",
       "    </tr>\n",
       "  </thead>\n",
       "  <tbody>\n",
       "    <tr>\n",
       "      <th>0</th>\n",
       "      <td>During the pandemic government workers have de...</td>\n",
       "      <td>Poor Pay</td>\n",
       "      <td>7.170060</td>\n",
       "      <td>1.118036</td>\n",
       "      <td>1.511767</td>\n",
       "      <td>positive</td>\n",
       "      <td>2020-11-22</td>\n",
       "      <td>Reposts</td>\n",
       "      <td>0</td>\n",
       "      <td>0</td>\n",
       "      <td>0</td>\n",
       "      <td>0</td>\n",
       "      <td>Unknown</td>\n",
       "      <td>45747</td>\n",
       "      <td>NEGATIVE</td>\n",
       "      <td>[vital public services, pandemic government wo...</td>\n",
       "    </tr>\n",
       "    <tr>\n",
       "      <th>1</th>\n",
       "      <td>I didn’t realize how poor I was until I got a ...</td>\n",
       "      <td>Poor Pay</td>\n",
       "      <td>3.428319</td>\n",
       "      <td>4.349932</td>\n",
       "      <td>-0.584664</td>\n",
       "      <td>negative</td>\n",
       "      <td>2021-05-07</td>\n",
       "      <td>Reposts</td>\n",
       "      <td>0</td>\n",
       "      <td>0</td>\n",
       "      <td>0</td>\n",
       "      <td>0</td>\n",
       "      <td>Female</td>\n",
       "      <td>82152</td>\n",
       "      <td>NEGATIVE</td>\n",
       "      <td>[good job, n’t realize, realize how poor, midd...</td>\n",
       "    </tr>\n",
       "    <tr>\n",
       "      <th>2</th>\n",
       "      <td>British people have this really dumb complex w...</td>\n",
       "      <td>Cost of Living</td>\n",
       "      <td>1.277756</td>\n",
       "      <td>3.769611</td>\n",
       "      <td>-1.428440</td>\n",
       "      <td>negative</td>\n",
       "      <td>2021-01-02</td>\n",
       "      <td>Reposts</td>\n",
       "      <td>0</td>\n",
       "      <td>0</td>\n",
       "      <td>0</td>\n",
       "      <td>0</td>\n",
       "      <td>Unknown</td>\n",
       "      <td>13581</td>\n",
       "      <td>NEGATIVE</td>\n",
       "      <td>[Dominic Cummings, British people, pay rise, d...</td>\n",
       "    </tr>\n",
       "    <tr>\n",
       "      <th>3</th>\n",
       "      <td>Tory MPs have voted against a ban on residents...</td>\n",
       "      <td>Poor Pay</td>\n",
       "      <td>3.365988</td>\n",
       "      <td>5.851462</td>\n",
       "      <td>-0.899544</td>\n",
       "      <td>negative</td>\n",
       "      <td>2021-04-27</td>\n",
       "      <td>Reposts</td>\n",
       "      <td>0</td>\n",
       "      <td>0</td>\n",
       "      <td>0</td>\n",
       "      <td>0</td>\n",
       "      <td>Male</td>\n",
       "      <td>2976</td>\n",
       "      <td>NEGATIVE</td>\n",
       "      <td>[fire safety problems, fix flammable cladding,...</td>\n",
       "    </tr>\n",
       "    <tr>\n",
       "      <th>4</th>\n",
       "      <td>The trouble with Rishi Sunak's upbeat message ...</td>\n",
       "      <td>Wage Growth</td>\n",
       "      <td>5.453477</td>\n",
       "      <td>2.944297</td>\n",
       "      <td>0.269810</td>\n",
       "      <td>neutral</td>\n",
       "      <td>2021-10-28</td>\n",
       "      <td>Reposts</td>\n",
       "      <td>0</td>\n",
       "      <td>0</td>\n",
       "      <td>0</td>\n",
       "      <td>0</td>\n",
       "      <td>Male</td>\n",
       "      <td>32501</td>\n",
       "      <td>NEGATIVE</td>\n",
       "      <td>[Rishi Sunak upbeat, Sunak upbeat message, bac...</td>\n",
       "    </tr>\n",
       "    <tr>\n",
       "      <th>...</th>\n",
       "      <td>...</td>\n",
       "      <td>...</td>\n",
       "      <td>...</td>\n",
       "      <td>...</td>\n",
       "      <td>...</td>\n",
       "      <td>...</td>\n",
       "      <td>...</td>\n",
       "      <td>...</td>\n",
       "      <td>...</td>\n",
       "      <td>...</td>\n",
       "      <td>...</td>\n",
       "      <td>...</td>\n",
       "      <td>...</td>\n",
       "      <td>...</td>\n",
       "      <td>...</td>\n",
       "      <td>...</td>\n",
       "    </tr>\n",
       "    <tr>\n",
       "      <th>995</th>\n",
       "      <td>Calderdale's head of public health wants the G...</td>\n",
       "      <td>Low Income Families</td>\n",
       "      <td>6.601709</td>\n",
       "      <td>1.788858</td>\n",
       "      <td>0.959178</td>\n",
       "      <td>positive</td>\n",
       "      <td>2020-11-11</td>\n",
       "      <td>Reposts</td>\n",
       "      <td>0</td>\n",
       "      <td>0</td>\n",
       "      <td>0</td>\n",
       "      <td>0</td>\n",
       "      <td>Female</td>\n",
       "      <td>2594</td>\n",
       "      <td>NEGATIVE</td>\n",
       "      <td>[Gov to change, change the NHS, Calderdale hea...</td>\n",
       "    </tr>\n",
       "    <tr>\n",
       "      <th>996</th>\n",
       "      <td>Sir Peter Lampl is correct  too many kids are ...</td>\n",
       "      <td>Low Income Families</td>\n",
       "      <td>3.638085</td>\n",
       "      <td>1.318853</td>\n",
       "      <td>0.668121</td>\n",
       "      <td>positive</td>\n",
       "      <td>2021-08-09</td>\n",
       "      <td>Reposts</td>\n",
       "      <td>0</td>\n",
       "      <td>0</td>\n",
       "      <td>0</td>\n",
       "      <td>0</td>\n",
       "      <td>Unknown</td>\n",
       "      <td>2291</td>\n",
       "      <td>NEGATIVE</td>\n",
       "      <td>[Sir Peter Lampl, Peter Lampl, Sir Peter, Lamp...</td>\n",
       "    </tr>\n",
       "    <tr>\n",
       "      <th>997</th>\n",
       "      <td>Johnson n Symonds hoped the cost of refurbishm...</td>\n",
       "      <td>Mental Health</td>\n",
       "      <td>4.196486</td>\n",
       "      <td>2.896350</td>\n",
       "      <td>0.024222</td>\n",
       "      <td>neutral</td>\n",
       "      <td>2021-04-28</td>\n",
       "      <td>Reposts</td>\n",
       "      <td>0</td>\n",
       "      <td>0</td>\n",
       "      <td>0</td>\n",
       "      <td>0</td>\n",
       "      <td>Female</td>\n",
       "      <td>2272</td>\n",
       "      <td>NEGATIVE</td>\n",
       "      <td>[Johnson n Symonds, Symonds hoped, charitable ...</td>\n",
       "    </tr>\n",
       "    <tr>\n",
       "      <th>998</th>\n",
       "      <td>We should avoid this patter like the plague. T...</td>\n",
       "      <td>House Prices</td>\n",
       "      <td>4.083818</td>\n",
       "      <td>2.638728</td>\n",
       "      <td>0.090162</td>\n",
       "      <td>neutral</td>\n",
       "      <td>2021-03-25</td>\n",
       "      <td>Reposts</td>\n",
       "      <td>0</td>\n",
       "      <td>0</td>\n",
       "      <td>0</td>\n",
       "      <td>0</td>\n",
       "      <td>Unknown</td>\n",
       "      <td>1971</td>\n",
       "      <td>NEGATIVE</td>\n",
       "      <td>[avoid this patter, plague, pay rise, negated ...</td>\n",
       "    </tr>\n",
       "    <tr>\n",
       "      <th>999</th>\n",
       "      <td>I am heartily sick of the increasing obvious b...</td>\n",
       "      <td>Statutory Sick Pay</td>\n",
       "      <td>0.993810</td>\n",
       "      <td>3.837045</td>\n",
       "      <td>-1.697485</td>\n",
       "      <td>negative</td>\n",
       "      <td>2021-03-31</td>\n",
       "      <td>Reposts</td>\n",
       "      <td>0</td>\n",
       "      <td>0</td>\n",
       "      <td>0</td>\n",
       "      <td>0</td>\n",
       "      <td>Male</td>\n",
       "      <td>1325</td>\n",
       "      <td>NEGATIVE</td>\n",
       "      <td>[increasing obvious bias, obvious bias shown, ...</td>\n",
       "    </tr>\n",
       "  </tbody>\n",
       "</table>\n",
       "<p>1000 rows × 16 columns</p>\n",
       "</div>"
      ],
      "text/plain": [
       "                                                  body           clusters_0  \\\n",
       "0    During the pandemic government workers have de...             Poor Pay   \n",
       "1    I didn’t realize how poor I was until I got a ...             Poor Pay   \n",
       "2    British people have this really dumb complex w...       Cost of Living   \n",
       "3    Tory MPs have voted against a ban on residents...             Poor Pay   \n",
       "4    The trouble with Rishi Sunak's upbeat message ...          Wage Growth   \n",
       "..                                                 ...                  ...   \n",
       "995  Calderdale's head of public health wants the G...  Low Income Families   \n",
       "996  Sir Peter Lampl is correct  too many kids are ...  Low Income Families   \n",
       "997  Johnson n Symonds hoped the cost of refurbishm...        Mental Health   \n",
       "998  We should avoid this patter like the plague. T...         House Prices   \n",
       "999  I am heartily sick of the increasing obvious b...   Statutory Sick Pay   \n",
       "\n",
       "     sentiment_positive_score  sentiment_negative_score  \\\n",
       "0                    7.170060                  1.118036   \n",
       "1                    3.428319                  4.349932   \n",
       "2                    1.277756                  3.769611   \n",
       "3                    3.365988                  5.851462   \n",
       "4                    5.453477                  2.944297   \n",
       "..                        ...                       ...   \n",
       "995                  6.601709                  1.788858   \n",
       "996                  3.638085                  1.318853   \n",
       "997                  4.196486                  2.896350   \n",
       "998                  4.083818                  2.638728   \n",
       "999                  0.993810                  3.837045   \n",
       "\n",
       "     sentiment_combined_score sentiment_summary published_date post_type  \\\n",
       "0                    1.511767          positive     2020-11-22   Reposts   \n",
       "1                   -0.584664          negative     2021-05-07   Reposts   \n",
       "2                   -1.428440          negative     2021-01-02   Reposts   \n",
       "3                   -0.899544          negative     2021-04-27   Reposts   \n",
       "4                    0.269810           neutral     2021-10-28   Reposts   \n",
       "..                        ...               ...            ...       ...   \n",
       "995                  0.959178          positive     2020-11-11   Reposts   \n",
       "996                  0.668121          positive     2021-08-09   Reposts   \n",
       "997                  0.024222           neutral     2021-04-28   Reposts   \n",
       "998                  0.090162           neutral     2021-03-25   Reposts   \n",
       "999                 -1.697485          negative     2021-03-31   Reposts   \n",
       "\n",
       "     total_engagement  comments  shares  likes author_gender  followers  \\\n",
       "0                   0         0       0      0       Unknown      45747   \n",
       "1                   0         0       0      0        Female      82152   \n",
       "2                   0         0       0      0       Unknown      13581   \n",
       "3                   0         0       0      0          Male       2976   \n",
       "4                   0         0       0      0          Male      32501   \n",
       "..                ...       ...     ...    ...           ...        ...   \n",
       "995                 0         0       0      0        Female       2594   \n",
       "996                 0         0       0      0       Unknown       2291   \n",
       "997                 0         0       0      0        Female       2272   \n",
       "998                 0         0       0      0       Unknown       1971   \n",
       "999                 0         0       0      0          Male       1325   \n",
       "\n",
       "    transformer_sentiment                                           keywords  \n",
       "0                NEGATIVE  [vital public services, pandemic government wo...  \n",
       "1                NEGATIVE  [good job, n’t realize, realize how poor, midd...  \n",
       "2                NEGATIVE  [Dominic Cummings, British people, pay rise, d...  \n",
       "3                NEGATIVE  [fire safety problems, fix flammable cladding,...  \n",
       "4                NEGATIVE  [Rishi Sunak upbeat, Sunak upbeat message, bac...  \n",
       "..                    ...                                                ...  \n",
       "995              NEGATIVE  [Gov to change, change the NHS, Calderdale hea...  \n",
       "996              NEGATIVE  [Sir Peter Lampl, Peter Lampl, Sir Peter, Lamp...  \n",
       "997              NEGATIVE  [Johnson n Symonds, Symonds hoped, charitable ...  \n",
       "998              NEGATIVE  [avoid this patter, plague, pay rise, negated ...  \n",
       "999              NEGATIVE  [increasing obvious bias, obvious bias shown, ...  \n",
       "\n",
       "[1000 rows x 16 columns]"
      ]
     },
     "execution_count": 51,
     "metadata": {},
     "output_type": "execute_result"
    }
   ],
   "source": [
    "data"
   ]
  },
  {
   "cell_type": "code",
   "execution_count": 5,
   "metadata": {},
   "outputs": [
    {
     "data": {
      "text/html": [
       "<div>\n",
       "<style scoped>\n",
       "    .dataframe tbody tr th:only-of-type {\n",
       "        vertical-align: middle;\n",
       "    }\n",
       "\n",
       "    .dataframe tbody tr th {\n",
       "        vertical-align: top;\n",
       "    }\n",
       "\n",
       "    .dataframe thead th {\n",
       "        text-align: right;\n",
       "    }\n",
       "</style>\n",
       "<table border=\"1\" class=\"dataframe\">\n",
       "  <thead>\n",
       "    <tr style=\"text-align: right;\">\n",
       "      <th></th>\n",
       "      <th>Topic</th>\n",
       "      <th>counts</th>\n",
       "    </tr>\n",
       "  </thead>\n",
       "  <tbody>\n",
       "    <tr>\n",
       "      <th>0</th>\n",
       "      <td>Poor Pay</td>\n",
       "      <td>144</td>\n",
       "    </tr>\n",
       "    <tr>\n",
       "      <th>1</th>\n",
       "      <td>Low Income Families</td>\n",
       "      <td>123</td>\n",
       "    </tr>\n",
       "    <tr>\n",
       "      <th>2</th>\n",
       "      <td>Government Support</td>\n",
       "      <td>104</td>\n",
       "    </tr>\n",
       "    <tr>\n",
       "      <th>3</th>\n",
       "      <td>Mental Health</td>\n",
       "      <td>63</td>\n",
       "    </tr>\n",
       "    <tr>\n",
       "      <th>4</th>\n",
       "      <td>Cost of Living</td>\n",
       "      <td>60</td>\n",
       "    </tr>\n",
       "    <tr>\n",
       "      <th>5</th>\n",
       "      <td>State Pension</td>\n",
       "      <td>59</td>\n",
       "    </tr>\n",
       "    <tr>\n",
       "      <th>6</th>\n",
       "      <td>Public Sector Pay</td>\n",
       "      <td>46</td>\n",
       "    </tr>\n",
       "    <tr>\n",
       "      <th>7</th>\n",
       "      <td>Social Care</td>\n",
       "      <td>46</td>\n",
       "    </tr>\n",
       "    <tr>\n",
       "      <th>8</th>\n",
       "      <td>Poor People</td>\n",
       "      <td>38</td>\n",
       "    </tr>\n",
       "    <tr>\n",
       "      <th>9</th>\n",
       "      <td>Rich People</td>\n",
       "      <td>37</td>\n",
       "    </tr>\n",
       "    <tr>\n",
       "      <th>10</th>\n",
       "      <td>Leaseholding</td>\n",
       "      <td>34</td>\n",
       "    </tr>\n",
       "    <tr>\n",
       "      <th>11</th>\n",
       "      <td>House Prices</td>\n",
       "      <td>30</td>\n",
       "    </tr>\n",
       "    <tr>\n",
       "      <th>12</th>\n",
       "      <td>Wage Growth</td>\n",
       "      <td>28</td>\n",
       "    </tr>\n",
       "    <tr>\n",
       "      <th>13</th>\n",
       "      <td>Pay Rises</td>\n",
       "      <td>28</td>\n",
       "    </tr>\n",
       "    <tr>\n",
       "      <th>14</th>\n",
       "      <td>Minimum Wage Increase</td>\n",
       "      <td>27</td>\n",
       "    </tr>\n",
       "    <tr>\n",
       "      <th>15</th>\n",
       "      <td>Income Tax</td>\n",
       "      <td>26</td>\n",
       "    </tr>\n",
       "    <tr>\n",
       "      <th>16</th>\n",
       "      <td>Job</td>\n",
       "      <td>24</td>\n",
       "    </tr>\n",
       "    <tr>\n",
       "      <th>17</th>\n",
       "      <td>Long Hours</td>\n",
       "      <td>20</td>\n",
       "    </tr>\n",
       "    <tr>\n",
       "      <th>18</th>\n",
       "      <td>Statutory Sick Pay</td>\n",
       "      <td>20</td>\n",
       "    </tr>\n",
       "    <tr>\n",
       "      <th>19</th>\n",
       "      <td>National Insurance</td>\n",
       "      <td>20</td>\n",
       "    </tr>\n",
       "    <tr>\n",
       "      <th>20</th>\n",
       "      <td>Small Businesses</td>\n",
       "      <td>11</td>\n",
       "    </tr>\n",
       "    <tr>\n",
       "      <th>21</th>\n",
       "      <td>Council Tax</td>\n",
       "      <td>7</td>\n",
       "    </tr>\n",
       "    <tr>\n",
       "      <th>22</th>\n",
       "      <td>Gender Pay Gap</td>\n",
       "      <td>5</td>\n",
       "    </tr>\n",
       "  </tbody>\n",
       "</table>\n",
       "</div>"
      ],
      "text/plain": [
       "                    Topic  counts\n",
       "0                Poor Pay     144\n",
       "1     Low Income Families     123\n",
       "2      Government Support     104\n",
       "3           Mental Health      63\n",
       "4          Cost of Living      60\n",
       "5           State Pension      59\n",
       "6       Public Sector Pay      46\n",
       "7             Social Care      46\n",
       "8             Poor People      38\n",
       "9             Rich People      37\n",
       "10           Leaseholding      34\n",
       "11           House Prices      30\n",
       "12            Wage Growth      28\n",
       "13              Pay Rises      28\n",
       "14  Minimum Wage Increase      27\n",
       "15             Income Tax      26\n",
       "16                    Job      24\n",
       "17             Long Hours      20\n",
       "18     Statutory Sick Pay      20\n",
       "19     National Insurance      20\n",
       "20       Small Businesses      11\n",
       "21            Council Tax       7\n",
       "22         Gender Pay Gap       5"
      ]
     },
     "execution_count": 5,
     "metadata": {},
     "output_type": "execute_result"
    }
   ],
   "source": [
    "topics = pd.DataFrame(data.clusters_0.value_counts().reset_index())\n",
    "topics.columns = ['Topic', 'counts']\n",
    "topics"
   ]
  },
  {
   "cell_type": "code",
   "execution_count": 159,
   "metadata": {},
   "outputs": [
    {
     "name": "stderr",
     "output_type": "stream",
     "text": [
      "No model was supplied, defaulted to dbmdz/bert-large-cased-finetuned-conll03-english (https://huggingface.co/dbmdz/bert-large-cased-finetuned-conll03-english)\n"
     ]
    }
   ],
   "source": [
    "\n",
    "\n",
    "ner_model = pipeline(\"ner\", aggregation_strategy = 'simple')"
   ]
  },
  {
   "cell_type": "code",
   "execution_count": 127,
   "metadata": {},
   "outputs": [
    {
     "name": "stdout",
     "output_type": "stream",
     "text": [
      "[{'entity_group': 'ORG', 'score': 0.9521137, 'word': 'Westminster', 'start': 31, 'end': 42}, {'entity_group': 'LOC', 'score': 0.9995466, 'word': 'UK', 'start': 56, 'end': 58}, {'entity_group': 'MISC', 'score': 0.854854, 'word': 'Tory', 'start': 127, 'end': 131}, {'entity_group': 'LOC', 'score': 0.9996809, 'word': 'Scotland', 'start': 220, 'end': 228}]\n"
     ]
    }
   ],
   "source": [
    "j = 12\n",
    "ner_output = ner_model(data.body[j])\n",
    "print(ner_output)"
   ]
  },
  {
   "cell_type": "code",
   "execution_count": 128,
   "metadata": {},
   "outputs": [
    {
     "data": {
      "text/plain": [
       "([], ['Westminster', 'UK', 'Scotland'], [])"
      ]
     },
     "execution_count": 128,
     "metadata": {},
     "output_type": "execute_result"
    }
   ],
   "source": [
    "NER_extractor_from_transformer(ner_output)"
   ]
  },
  {
   "cell_type": "code",
   "execution_count": 135,
   "metadata": {},
   "outputs": [],
   "source": [
    "# ner_all = [NER_extractor_from_transformer(ner_model(x)) for x in data.body]"
   ]
  },
  {
   "cell_type": "code",
   "execution_count": 161,
   "metadata": {},
   "outputs": [],
   "source": []
  },
  {
   "cell_type": "code",
   "execution_count": 193,
   "metadata": {},
   "outputs": [],
   "source": [
    "def NER_extractor_from_transformer(ner_dictionary):\n",
    "    ''' Clean ner_dictioonary_output'''\n",
    "    people = []\n",
    "    locations = []\n",
    "    organizations = []\n",
    "    \n",
    "    if len(ner_dictionary) ==0:\n",
    "        return (people, locations, organizations)\n",
    "    \n",
    "    else: \n",
    "        try:\n",
    "            for token in range(len(ner_dictionary)):\n",
    "                if ner_dictionary[token]['entity_group'] == 'PER': \n",
    "                    people.append(ner_dictionary[token]['word'])\n",
    "\n",
    "                elif ner_dictionary[token]['entity_group'] == 'LOC':\n",
    "                    locations.append(ner_dictionary[token]['word'])\n",
    "\n",
    "                elif ner_dictionary[token]['entity_group'] == 'ORG':\n",
    "                    organizations.append(ner_dictionary[token]['word'])\n",
    "                else:\n",
    "                    pass\n",
    "        except: \n",
    "            return (people, locations, organizations)\n",
    "                \n",
    "    return (people, locations, organizations)\n",
    "\n",
    "def get_engagement_stats(data):\n",
    "    \n",
    "    ''' Function to extract stats of engagement data'''\n",
    "    \n",
    "    temp_data = data[['total_engagement', 'comments', 'shares', 'likes']].describe().loc[['mean','max']]\n",
    "    return temp_data"
   ]
  },
  {
   "cell_type": "code",
   "execution_count": null,
   "metadata": {},
   "outputs": [],
   "source": [
    "@st.cache(hash_funcs={tokenizers.Tokenizer: lambda _: None, tokenizers.AddedToken: lambda _: None})\n",
    "def get_ner_model():\n",
    "    return pipeline(\"ner\", aggregation_strategy = 'simple')"
   ]
  },
  {
   "cell_type": "code",
   "execution_count": 210,
   "metadata": {},
   "outputs": [],
   "source": [
    "from utils.query_similar import *\n",
    "query = 'Economic struggle in the UK'\n",
    "similar_tweets = get_similar_tweets_to_text_string(data.body, query, rank = 10, return_as_dataframe = True)\n",
    "\n",
    "ner_output_list = [NER_extractor_from_transformer(ner_model(x)) for x in similar_tweets['Top similar tweets']]"
   ]
  },
  {
   "cell_type": "code",
   "execution_count": 211,
   "metadata": {},
   "outputs": [
    {
     "name": "stdout",
     "output_type": "stream",
     "text": [
      "People:  ['Dominic Cummings' 'Johnson']\n",
      "Locations:  ['Europe' 'UK']\n",
      "Organisations:  ['DHSC' 'Lib Dem']\n"
     ]
    }
   ],
   "source": [
    "list_of_people = [people[0] for people in ner_output_list]\n",
    "print('People: ', np.unique([j for i in list_of_people for j in i]))\n",
    "\n",
    "list_of_locations = [locations[1] for locations in ner_output_list]\n",
    "print('Locations: ', np.unique([j for i in list_of_locations for j in i]))\n",
    "\n",
    "list_of_organisations = [org[2] for org in ner_output_list]\n",
    "print('Organisations: ', np.unique([j for i in list_of_organisations for j in i]))"
   ]
  },
  {
   "cell_type": "code",
   "execution_count": 216,
   "metadata": {},
   "outputs": [
    {
     "data": {
      "text/plain": [
       "array(['DHSC', 'Lib Dem'], dtype='<U7')"
      ]
     },
     "execution_count": 216,
     "metadata": {},
     "output_type": "execute_result"
    }
   ],
   "source": [
    "np.unique([j for i in list_of_organisations for j in i])"
   ]
  },
  {
   "cell_type": "code",
   "execution_count": 10,
   "metadata": {},
   "outputs": [
    {
     "name": "stderr",
     "output_type": "stream",
     "text": [
      "No model was supplied, defaulted to distilbert-base-uncased-finetuned-sst-2-english (https://huggingface.co/distilbert-base-uncased-finetuned-sst-2-english)\n"
     ]
    },
    {
     "data": {
      "application/vnd.jupyter.widget-view+json": {
       "model_id": "e93a05fa226242599f9b77a322454645",
       "version_major": 2,
       "version_minor": 0
      },
      "text/plain": [
       "HBox(children=(FloatProgress(value=0.0, description='Downloading', max=629.0, style=ProgressStyle(description_…"
      ]
     },
     "metadata": {},
     "output_type": "display_data"
    },
    {
     "name": "stdout",
     "output_type": "stream",
     "text": [
      "\n"
     ]
    },
    {
     "data": {
      "application/vnd.jupyter.widget-view+json": {
       "model_id": "14e3dcb38d9c45caa3072370cf55232c",
       "version_major": 2,
       "version_minor": 0
      },
      "text/plain": [
       "HBox(children=(FloatProgress(value=0.0, description='Downloading', max=267844284.0, style=ProgressStyle(descri…"
      ]
     },
     "metadata": {},
     "output_type": "display_data"
    },
    {
     "name": "stdout",
     "output_type": "stream",
     "text": [
      "\n"
     ]
    },
    {
     "data": {
      "application/vnd.jupyter.widget-view+json": {
       "model_id": "0ad04a4e8e5c410eb22ecc3fa3d58708",
       "version_major": 2,
       "version_minor": 0
      },
      "text/plain": [
       "HBox(children=(FloatProgress(value=0.0, description='Downloading', max=48.0, style=ProgressStyle(description_w…"
      ]
     },
     "metadata": {},
     "output_type": "display_data"
    },
    {
     "name": "stdout",
     "output_type": "stream",
     "text": [
      "\n"
     ]
    },
    {
     "data": {
      "application/vnd.jupyter.widget-view+json": {
       "model_id": "84c239ca7cb442e68e426e1d722da289",
       "version_major": 2,
       "version_minor": 0
      },
      "text/plain": [
       "HBox(children=(FloatProgress(value=0.0, description='Downloading', max=231508.0, style=ProgressStyle(descripti…"
      ]
     },
     "metadata": {},
     "output_type": "display_data"
    },
    {
     "name": "stdout",
     "output_type": "stream",
     "text": [
      "\n"
     ]
    },
    {
     "data": {
      "text/plain": [
       "[{'label': 'NEGATIVE', 'score': 0.9875652194023132}]"
      ]
     },
     "execution_count": 10,
     "metadata": {},
     "output_type": "execute_result"
    }
   ],
   "source": [
    "from transformers import pipeline\n",
    "classifier = pipeline('sentiment-analysis')\n",
    "classifier(data.body[0])"
   ]
  },
  {
   "cell_type": "code",
   "execution_count": 219,
   "metadata": {},
   "outputs": [
    {
     "data": {
      "text/plain": [
       "array(['Poor Pay', 'Cost of Living', 'Wage Growth'], dtype=object)"
      ]
     },
     "execution_count": 219,
     "metadata": {},
     "output_type": "execute_result"
    }
   ],
   "source": [
    "data.clusters_0.unique()[:3]"
   ]
  },
  {
   "cell_type": "code",
   "execution_count": 240,
   "metadata": {},
   "outputs": [],
   "source": [
    "def filter_data_by_topic(data, topics):\n",
    "    ''' filter data by topics contained in column cluster_0'''\n",
    "    return data[data.clusters_0.isin(list(topics))]"
   ]
  },
  {
   "cell_type": "code",
   "execution_count": 241,
   "metadata": {},
   "outputs": [],
   "source": [
    "a = filter_data_by_topic(data,data.clusters_0.unique()[:4] )\n"
   ]
  },
  {
   "cell_type": "code",
   "execution_count": 242,
   "metadata": {},
   "outputs": [
    {
     "data": {
      "text/html": [
       "<div>\n",
       "<style scoped>\n",
       "    .dataframe tbody tr th:only-of-type {\n",
       "        vertical-align: middle;\n",
       "    }\n",
       "\n",
       "    .dataframe tbody tr th {\n",
       "        vertical-align: top;\n",
       "    }\n",
       "\n",
       "    .dataframe thead th {\n",
       "        text-align: right;\n",
       "    }\n",
       "</style>\n",
       "<table border=\"1\" class=\"dataframe\">\n",
       "  <thead>\n",
       "    <tr style=\"text-align: right;\">\n",
       "      <th></th>\n",
       "      <th>body</th>\n",
       "      <th>clusters_0</th>\n",
       "      <th>sentiment_positive_score</th>\n",
       "      <th>sentiment_negative_score</th>\n",
       "      <th>sentiment_combined_score</th>\n",
       "      <th>sentiment_summary</th>\n",
       "      <th>published_date</th>\n",
       "      <th>post_type</th>\n",
       "      <th>total_engagement</th>\n",
       "      <th>comments</th>\n",
       "      <th>shares</th>\n",
       "      <th>likes</th>\n",
       "      <th>author_gender</th>\n",
       "      <th>followers</th>\n",
       "      <th>transformer_sentiment</th>\n",
       "      <th>keywords</th>\n",
       "    </tr>\n",
       "  </thead>\n",
       "  <tbody>\n",
       "    <tr>\n",
       "      <th>0</th>\n",
       "      <td>During the pandemic government workers have de...</td>\n",
       "      <td>Poor Pay</td>\n",
       "      <td>7.170060</td>\n",
       "      <td>1.118036</td>\n",
       "      <td>1.511767</td>\n",
       "      <td>positive</td>\n",
       "      <td>2020-11-22</td>\n",
       "      <td>Reposts</td>\n",
       "      <td>0</td>\n",
       "      <td>0</td>\n",
       "      <td>0</td>\n",
       "      <td>0</td>\n",
       "      <td>Unknown</td>\n",
       "      <td>45747</td>\n",
       "      <td>NEGATIVE</td>\n",
       "      <td>[vital public services, pandemic government wo...</td>\n",
       "    </tr>\n",
       "    <tr>\n",
       "      <th>1</th>\n",
       "      <td>I didn’t realize how poor I was until I got a ...</td>\n",
       "      <td>Poor Pay</td>\n",
       "      <td>3.428319</td>\n",
       "      <td>4.349932</td>\n",
       "      <td>-0.584664</td>\n",
       "      <td>negative</td>\n",
       "      <td>2021-05-07</td>\n",
       "      <td>Reposts</td>\n",
       "      <td>0</td>\n",
       "      <td>0</td>\n",
       "      <td>0</td>\n",
       "      <td>0</td>\n",
       "      <td>Female</td>\n",
       "      <td>82152</td>\n",
       "      <td>NEGATIVE</td>\n",
       "      <td>[good job, n’t realize, realize how poor, midd...</td>\n",
       "    </tr>\n",
       "    <tr>\n",
       "      <th>2</th>\n",
       "      <td>British people have this really dumb complex w...</td>\n",
       "      <td>Cost of Living</td>\n",
       "      <td>1.277756</td>\n",
       "      <td>3.769611</td>\n",
       "      <td>-1.428440</td>\n",
       "      <td>negative</td>\n",
       "      <td>2021-01-02</td>\n",
       "      <td>Reposts</td>\n",
       "      <td>0</td>\n",
       "      <td>0</td>\n",
       "      <td>0</td>\n",
       "      <td>0</td>\n",
       "      <td>Unknown</td>\n",
       "      <td>13581</td>\n",
       "      <td>NEGATIVE</td>\n",
       "      <td>[Dominic Cummings, British people, pay rise, d...</td>\n",
       "    </tr>\n",
       "    <tr>\n",
       "      <th>3</th>\n",
       "      <td>Tory MPs have voted against a ban on residents...</td>\n",
       "      <td>Poor Pay</td>\n",
       "      <td>3.365988</td>\n",
       "      <td>5.851462</td>\n",
       "      <td>-0.899544</td>\n",
       "      <td>negative</td>\n",
       "      <td>2021-04-27</td>\n",
       "      <td>Reposts</td>\n",
       "      <td>0</td>\n",
       "      <td>0</td>\n",
       "      <td>0</td>\n",
       "      <td>0</td>\n",
       "      <td>Male</td>\n",
       "      <td>2976</td>\n",
       "      <td>NEGATIVE</td>\n",
       "      <td>[fire safety problems, fix flammable cladding,...</td>\n",
       "    </tr>\n",
       "    <tr>\n",
       "      <th>4</th>\n",
       "      <td>The trouble with Rishi Sunak's upbeat message ...</td>\n",
       "      <td>Wage Growth</td>\n",
       "      <td>5.453477</td>\n",
       "      <td>2.944297</td>\n",
       "      <td>0.269810</td>\n",
       "      <td>neutral</td>\n",
       "      <td>2021-10-28</td>\n",
       "      <td>Reposts</td>\n",
       "      <td>0</td>\n",
       "      <td>0</td>\n",
       "      <td>0</td>\n",
       "      <td>0</td>\n",
       "      <td>Male</td>\n",
       "      <td>32501</td>\n",
       "      <td>NEGATIVE</td>\n",
       "      <td>[Rishi Sunak upbeat, Sunak upbeat message, bac...</td>\n",
       "    </tr>\n",
       "    <tr>\n",
       "      <th>...</th>\n",
       "      <td>...</td>\n",
       "      <td>...</td>\n",
       "      <td>...</td>\n",
       "      <td>...</td>\n",
       "      <td>...</td>\n",
       "      <td>...</td>\n",
       "      <td>...</td>\n",
       "      <td>...</td>\n",
       "      <td>...</td>\n",
       "      <td>...</td>\n",
       "      <td>...</td>\n",
       "      <td>...</td>\n",
       "      <td>...</td>\n",
       "      <td>...</td>\n",
       "      <td>...</td>\n",
       "      <td>...</td>\n",
       "    </tr>\n",
       "    <tr>\n",
       "      <th>967</th>\n",
       "      <td>UK energy bills could rise 30% in 2022. Wages ...</td>\n",
       "      <td>Cost of Living</td>\n",
       "      <td>2.132700</td>\n",
       "      <td>4.835561</td>\n",
       "      <td>-1.165182</td>\n",
       "      <td>negative</td>\n",
       "      <td>2021-10-08</td>\n",
       "      <td>Reposts</td>\n",
       "      <td>0</td>\n",
       "      <td>0</td>\n",
       "      <td>0</td>\n",
       "      <td>0</td>\n",
       "      <td>Unknown</td>\n",
       "      <td>4105</td>\n",
       "      <td>NEGATIVE</td>\n",
       "      <td>[bills could rise, energy bills, levellingdown...</td>\n",
       "    </tr>\n",
       "    <tr>\n",
       "      <th>980</th>\n",
       "      <td>Since the coup , Kyat value falls and the pric...</td>\n",
       "      <td>Poor Pay</td>\n",
       "      <td>2.891547</td>\n",
       "      <td>4.445826</td>\n",
       "      <td>-0.776748</td>\n",
       "      <td>negative</td>\n",
       "      <td>2021-09-17</td>\n",
       "      <td>Original</td>\n",
       "      <td>0</td>\n",
       "      <td>0</td>\n",
       "      <td>0</td>\n",
       "      <td>0</td>\n",
       "      <td>Unknown</td>\n",
       "      <td>143</td>\n",
       "      <td>NEGATIVE</td>\n",
       "      <td>[Kyat value falls, price of goods, goods incre...</td>\n",
       "    </tr>\n",
       "    <tr>\n",
       "      <th>986</th>\n",
       "      <td>Thomas Paine said Basic Income should be paid ...</td>\n",
       "      <td>Rich People</td>\n",
       "      <td>2.891547</td>\n",
       "      <td>4.301985</td>\n",
       "      <td>-0.743858</td>\n",
       "      <td>negative</td>\n",
       "      <td>2021-03-22</td>\n",
       "      <td>Reposts</td>\n",
       "      <td>0</td>\n",
       "      <td>0</td>\n",
       "      <td>0</td>\n",
       "      <td>0</td>\n",
       "      <td>Female</td>\n",
       "      <td>5049</td>\n",
       "      <td>NEGATIVE</td>\n",
       "      <td>[Thomas Paine, prevent invidious distinctions,...</td>\n",
       "    </tr>\n",
       "    <tr>\n",
       "      <th>987</th>\n",
       "      <td>Extraordinary: on the same day Johnson has bee...</td>\n",
       "      <td>Poor Pay</td>\n",
       "      <td>6.222808</td>\n",
       "      <td>2.307993</td>\n",
       "      <td>0.645269</td>\n",
       "      <td>positive</td>\n",
       "      <td>2021-03-11</td>\n",
       "      <td>Reposts</td>\n",
       "      <td>0</td>\n",
       "      <td>0</td>\n",
       "      <td>0</td>\n",
       "      <td>0</td>\n",
       "      <td>Unknown</td>\n",
       "      <td>4169</td>\n",
       "      <td>NEGATIVE</td>\n",
       "      <td>[public money, day Johnson, bridge between Sco...</td>\n",
       "    </tr>\n",
       "    <tr>\n",
       "      <th>992</th>\n",
       "      <td>Our nurses have risked their lives to keep us ...</td>\n",
       "      <td>Poor Pay</td>\n",
       "      <td>2.843600</td>\n",
       "      <td>5.707621</td>\n",
       "      <td>-1.043305</td>\n",
       "      <td>negative</td>\n",
       "      <td>2020-11-13</td>\n",
       "      <td>Reposts</td>\n",
       "      <td>0</td>\n",
       "      <td>0</td>\n",
       "      <td>0</td>\n",
       "      <td>0</td>\n",
       "      <td>Unknown</td>\n",
       "      <td>2806</td>\n",
       "      <td>NEGATIVE</td>\n",
       "      <td>[nurses have risked, risked their lives, pande...</td>\n",
       "    </tr>\n",
       "  </tbody>\n",
       "</table>\n",
       "<p>269 rows × 16 columns</p>\n",
       "</div>"
      ],
      "text/plain": [
       "                                                  body      clusters_0  \\\n",
       "0    During the pandemic government workers have de...        Poor Pay   \n",
       "1    I didn’t realize how poor I was until I got a ...        Poor Pay   \n",
       "2    British people have this really dumb complex w...  Cost of Living   \n",
       "3    Tory MPs have voted against a ban on residents...        Poor Pay   \n",
       "4    The trouble with Rishi Sunak's upbeat message ...     Wage Growth   \n",
       "..                                                 ...             ...   \n",
       "967  UK energy bills could rise 30% in 2022. Wages ...  Cost of Living   \n",
       "980  Since the coup , Kyat value falls and the pric...        Poor Pay   \n",
       "986  Thomas Paine said Basic Income should be paid ...     Rich People   \n",
       "987  Extraordinary: on the same day Johnson has bee...        Poor Pay   \n",
       "992  Our nurses have risked their lives to keep us ...        Poor Pay   \n",
       "\n",
       "     sentiment_positive_score  sentiment_negative_score  \\\n",
       "0                    7.170060                  1.118036   \n",
       "1                    3.428319                  4.349932   \n",
       "2                    1.277756                  3.769611   \n",
       "3                    3.365988                  5.851462   \n",
       "4                    5.453477                  2.944297   \n",
       "..                        ...                       ...   \n",
       "967                  2.132700                  4.835561   \n",
       "980                  2.891547                  4.445826   \n",
       "986                  2.891547                  4.301985   \n",
       "987                  6.222808                  2.307993   \n",
       "992                  2.843600                  5.707621   \n",
       "\n",
       "     sentiment_combined_score sentiment_summary published_date post_type  \\\n",
       "0                    1.511767          positive     2020-11-22   Reposts   \n",
       "1                   -0.584664          negative     2021-05-07   Reposts   \n",
       "2                   -1.428440          negative     2021-01-02   Reposts   \n",
       "3                   -0.899544          negative     2021-04-27   Reposts   \n",
       "4                    0.269810           neutral     2021-10-28   Reposts   \n",
       "..                        ...               ...            ...       ...   \n",
       "967                 -1.165182          negative     2021-10-08   Reposts   \n",
       "980                 -0.776748          negative     2021-09-17  Original   \n",
       "986                 -0.743858          negative     2021-03-22   Reposts   \n",
       "987                  0.645269          positive     2021-03-11   Reposts   \n",
       "992                 -1.043305          negative     2020-11-13   Reposts   \n",
       "\n",
       "     total_engagement  comments  shares  likes author_gender  followers  \\\n",
       "0                   0         0       0      0       Unknown      45747   \n",
       "1                   0         0       0      0        Female      82152   \n",
       "2                   0         0       0      0       Unknown      13581   \n",
       "3                   0         0       0      0          Male       2976   \n",
       "4                   0         0       0      0          Male      32501   \n",
       "..                ...       ...     ...    ...           ...        ...   \n",
       "967                 0         0       0      0       Unknown       4105   \n",
       "980                 0         0       0      0       Unknown        143   \n",
       "986                 0         0       0      0        Female       5049   \n",
       "987                 0         0       0      0       Unknown       4169   \n",
       "992                 0         0       0      0       Unknown       2806   \n",
       "\n",
       "    transformer_sentiment                                           keywords  \n",
       "0                NEGATIVE  [vital public services, pandemic government wo...  \n",
       "1                NEGATIVE  [good job, n’t realize, realize how poor, midd...  \n",
       "2                NEGATIVE  [Dominic Cummings, British people, pay rise, d...  \n",
       "3                NEGATIVE  [fire safety problems, fix flammable cladding,...  \n",
       "4                NEGATIVE  [Rishi Sunak upbeat, Sunak upbeat message, bac...  \n",
       "..                    ...                                                ...  \n",
       "967              NEGATIVE  [bills could rise, energy bills, levellingdown...  \n",
       "980              NEGATIVE  [Kyat value falls, price of goods, goods incre...  \n",
       "986              NEGATIVE  [Thomas Paine, prevent invidious distinctions,...  \n",
       "987              NEGATIVE  [public money, day Johnson, bridge between Sco...  \n",
       "992              NEGATIVE  [nurses have risked, risked their lives, pande...  \n",
       "\n",
       "[269 rows x 16 columns]"
      ]
     },
     "execution_count": 242,
     "metadata": {},
     "output_type": "execute_result"
    }
   ],
   "source": [
    "a"
   ]
  },
  {
   "cell_type": "code",
   "execution_count": 26,
   "metadata": {},
   "outputs": [
    {
     "data": {
      "text/html": [
       "<div>\n",
       "<style scoped>\n",
       "    .dataframe tbody tr th:only-of-type {\n",
       "        vertical-align: middle;\n",
       "    }\n",
       "\n",
       "    .dataframe tbody tr th {\n",
       "        vertical-align: top;\n",
       "    }\n",
       "\n",
       "    .dataframe thead th {\n",
       "        text-align: right;\n",
       "    }\n",
       "</style>\n",
       "<table border=\"1\" class=\"dataframe\">\n",
       "  <thead>\n",
       "    <tr style=\"text-align: right;\">\n",
       "      <th></th>\n",
       "      <th>index</th>\n",
       "      <th>transformer_sentiment</th>\n",
       "    </tr>\n",
       "  </thead>\n",
       "  <tbody>\n",
       "    <tr>\n",
       "      <th>0</th>\n",
       "      <td>NEGATIVE</td>\n",
       "      <td>857</td>\n",
       "    </tr>\n",
       "    <tr>\n",
       "      <th>1</th>\n",
       "      <td>POSITIVE</td>\n",
       "      <td>143</td>\n",
       "    </tr>\n",
       "  </tbody>\n",
       "</table>\n",
       "</div>"
      ],
      "text/plain": [
       "      index  transformer_sentiment\n",
       "0  NEGATIVE                    857\n",
       "1  POSITIVE                    143"
      ]
     },
     "execution_count": 26,
     "metadata": {},
     "output_type": "execute_result"
    }
   ],
   "source": [
    "sentiment_data = data.transformer_sentiment.value_counts().reset_index()\n",
    "sentiment_data.columns = ['Sentiment', 'counts']"
   ]
  },
  {
   "cell_type": "code",
   "execution_count": 27,
   "metadata": {},
   "outputs": [
    {
     "data": {
      "text/html": [
       "<div>\n",
       "<style scoped>\n",
       "    .dataframe tbody tr th:only-of-type {\n",
       "        vertical-align: middle;\n",
       "    }\n",
       "\n",
       "    .dataframe tbody tr th {\n",
       "        vertical-align: top;\n",
       "    }\n",
       "\n",
       "    .dataframe thead th {\n",
       "        text-align: right;\n",
       "    }\n",
       "</style>\n",
       "<table border=\"1\" class=\"dataframe\">\n",
       "  <thead>\n",
       "    <tr style=\"text-align: right;\">\n",
       "      <th></th>\n",
       "      <th>index</th>\n",
       "      <th>author_gender</th>\n",
       "    </tr>\n",
       "  </thead>\n",
       "  <tbody>\n",
       "    <tr>\n",
       "      <th>0</th>\n",
       "      <td>Unknown</td>\n",
       "      <td>452</td>\n",
       "    </tr>\n",
       "    <tr>\n",
       "      <th>1</th>\n",
       "      <td>Male</td>\n",
       "      <td>356</td>\n",
       "    </tr>\n",
       "    <tr>\n",
       "      <th>2</th>\n",
       "      <td>Female</td>\n",
       "      <td>192</td>\n",
       "    </tr>\n",
       "  </tbody>\n",
       "</table>\n",
       "</div>"
      ],
      "text/plain": [
       "     index  author_gender\n",
       "0  Unknown            452\n",
       "1     Male            356\n",
       "2   Female            192"
      ]
     },
     "execution_count": 27,
     "metadata": {},
     "output_type": "execute_result"
    }
   ],
   "source": [
    "## Total \n",
    "gender_data = data.author_gender.value_counts().reset_index()\n",
    "gender_data.columns = ['Sentiment', 'counts']"
   ]
  },
  {
   "cell_type": "code",
   "execution_count": 28,
   "metadata": {},
   "outputs": [
    {
     "data": {
      "application/vnd.jupyter.widget-view+json": {
       "model_id": "e8a46046d2d548f3b485fd445b8f8d25",
       "version_major": 2,
       "version_minor": 0
      },
      "text/plain": [
       "HBox(children=(FloatProgress(value=0.0, description='Downloading', max=1585.0, style=ProgressStyle(description…"
      ]
     },
     "metadata": {},
     "output_type": "display_data"
    },
    {
     "name": "stdout",
     "output_type": "stream",
     "text": [
      "\n"
     ]
    },
    {
     "data": {
      "application/vnd.jupyter.widget-view+json": {
       "model_id": "0a579334df1e4a6cb30041381d7ba30f",
       "version_major": 2,
       "version_minor": 0
      },
      "text/plain": [
       "HBox(children=(FloatProgress(value=0.0, description='Downloading', max=1625270765.0, style=ProgressStyle(descr…"
      ]
     },
     "metadata": {},
     "output_type": "display_data"
    },
    {
     "name": "stdout",
     "output_type": "stream",
     "text": [
      "\n"
     ]
    },
    {
     "data": {
      "application/vnd.jupyter.widget-view+json": {
       "model_id": "e6f58b432b3f4efbaf9b74165afd5548",
       "version_major": 2,
       "version_minor": 0
      },
      "text/plain": [
       "HBox(children=(FloatProgress(value=0.0, description='Downloading', max=898823.0, style=ProgressStyle(descripti…"
      ]
     },
     "metadata": {},
     "output_type": "display_data"
    },
    {
     "name": "stdout",
     "output_type": "stream",
     "text": [
      "\n"
     ]
    },
    {
     "data": {
      "application/vnd.jupyter.widget-view+json": {
       "model_id": "125106dfb8c84a9da7b234f7a6dcdf3a",
       "version_major": 2,
       "version_minor": 0
      },
      "text/plain": [
       "HBox(children=(FloatProgress(value=0.0, description='Downloading', max=456318.0, style=ProgressStyle(descripti…"
      ]
     },
     "metadata": {},
     "output_type": "display_data"
    },
    {
     "name": "stdout",
     "output_type": "stream",
     "text": [
      "\n"
     ]
    },
    {
     "data": {
      "application/vnd.jupyter.widget-view+json": {
       "model_id": "173004ba5ebb40d99c93701b1e05d4ce",
       "version_major": 2,
       "version_minor": 0
      },
      "text/plain": [
       "HBox(children=(FloatProgress(value=0.0, description='Downloading', max=1355863.0, style=ProgressStyle(descript…"
      ]
     },
     "metadata": {},
     "output_type": "display_data"
    },
    {
     "name": "stdout",
     "output_type": "stream",
     "text": [
      "\n"
     ]
    }
   ],
   "source": [
    "summarizer = pipeline(\"summarization\", model=\"facebook/bart-large-cnn\")"
   ]
  },
  {
   "cell_type": "code",
   "execution_count": 34,
   "metadata": {},
   "outputs": [
    {
     "name": "stderr",
     "output_type": "stream",
     "text": [
      "Your max_length is set to 50, but you input_length is only 44. You might consider decreasing max_length manually, e.g. summarizer('...', max_length=22)\n"
     ]
    },
    {
     "name": "stdout",
     "output_type": "stream",
     "text": [
      "I didn’t realize how poor I was until I got a good job. Education and a middle class salary can not undo the long term economic and emotional damage of living most of your life in poverty.\n",
      "[{'summary_text': '\"I didn\\'t realize how poor I was until I got a good job,\" she says. \"Education and a middle class salary can not undo the long term economic and emotional damage\"'}]\n"
     ]
    }
   ],
   "source": [
    "print(data.body[1])\n",
    "print(summarizer(data.body[1], max_length=50, min_length=10, do_sample=False))"
   ]
  },
  {
   "cell_type": "code",
   "execution_count": 41,
   "metadata": {},
   "outputs": [
    {
     "name": "stderr",
     "output_type": "stream",
     "text": [
      "/opt/anaconda3/lib/python3.7/site-packages/gensim/similarities/__init__.py:15: UserWarning: The gensim.similarities.levenshtein submodule is disabled, because the optional Levenshtein package <https://pypi.org/project/python-Levenshtein/> is unavailable. Install Levenhstein (e.g. `pip install python-Levenshtein`) to suppress this warning.\n",
      "  warnings.warn(msg)\n"
     ]
    },
    {
     "name": "stdout",
     "output_type": "stream",
     "text": [
      "[==================================================] 100.0% 66.0/66.0MB downloaded\n"
     ]
    }
   ],
   "source": [
    "## Clean text:\n",
    "from scipy import spatial\n",
    "import gensim.downloader as api\n",
    "\n",
    "model = api.load(\"glove-wiki-gigaword-50\") \n",
    "\n",
    "def preprocess(text_string):\n",
    "    return [i.lower() for i in text_string.split()]\n",
    "\n",
    "def get_vector(s):\n",
    "    return np.sum(np.array([model[i] for i in preprocess(s)]), axis=0)"
   ]
  },
  {
   "cell_type": "code",
   "execution_count": 43,
   "metadata": {},
   "outputs": [
    {
     "ename": "KeyError",
     "evalue": "\"Key 'services,' not present\"",
     "output_type": "error",
     "traceback": [
      "\u001b[0;31m---------------------------------------------------------------------------\u001b[0m",
      "\u001b[0;31mKeyError\u001b[0m                                  Traceback (most recent call last)",
      "\u001b[0;32m<ipython-input-43-f3b15c8762c3>\u001b[0m in \u001b[0;36m<module>\u001b[0;34m\u001b[0m\n\u001b[0;32m----> 1\u001b[0;31m \u001b[0mget_vector\u001b[0m\u001b[0;34m(\u001b[0m\u001b[0mdata\u001b[0m\u001b[0;34m.\u001b[0m\u001b[0mbody\u001b[0m\u001b[0;34m[\u001b[0m\u001b[0;36m0\u001b[0m\u001b[0;34m]\u001b[0m\u001b[0;34m)\u001b[0m\u001b[0;34m\u001b[0m\u001b[0;34m\u001b[0m\u001b[0m\n\u001b[0m",
      "\u001b[0;32m<ipython-input-41-0b5fb3217273>\u001b[0m in \u001b[0;36mget_vector\u001b[0;34m(s)\u001b[0m\n\u001b[1;32m      9\u001b[0m \u001b[0;34m\u001b[0m\u001b[0m\n\u001b[1;32m     10\u001b[0m \u001b[0;32mdef\u001b[0m \u001b[0mget_vector\u001b[0m\u001b[0;34m(\u001b[0m\u001b[0ms\u001b[0m\u001b[0;34m)\u001b[0m\u001b[0;34m:\u001b[0m\u001b[0;34m\u001b[0m\u001b[0;34m\u001b[0m\u001b[0m\n\u001b[0;32m---> 11\u001b[0;31m     \u001b[0;32mreturn\u001b[0m \u001b[0mnp\u001b[0m\u001b[0;34m.\u001b[0m\u001b[0msum\u001b[0m\u001b[0;34m(\u001b[0m\u001b[0mnp\u001b[0m\u001b[0;34m.\u001b[0m\u001b[0marray\u001b[0m\u001b[0;34m(\u001b[0m\u001b[0;34m[\u001b[0m\u001b[0mmodel\u001b[0m\u001b[0;34m[\u001b[0m\u001b[0mi\u001b[0m\u001b[0;34m]\u001b[0m \u001b[0;32mfor\u001b[0m \u001b[0mi\u001b[0m \u001b[0;32min\u001b[0m \u001b[0mpreprocess\u001b[0m\u001b[0;34m(\u001b[0m\u001b[0ms\u001b[0m\u001b[0;34m)\u001b[0m\u001b[0;34m]\u001b[0m\u001b[0;34m)\u001b[0m\u001b[0;34m,\u001b[0m \u001b[0maxis\u001b[0m\u001b[0;34m=\u001b[0m\u001b[0;36m0\u001b[0m\u001b[0;34m)\u001b[0m\u001b[0;34m\u001b[0m\u001b[0;34m\u001b[0m\u001b[0m\n\u001b[0m",
      "\u001b[0;32m<ipython-input-41-0b5fb3217273>\u001b[0m in \u001b[0;36m<listcomp>\u001b[0;34m(.0)\u001b[0m\n\u001b[1;32m      9\u001b[0m \u001b[0;34m\u001b[0m\u001b[0m\n\u001b[1;32m     10\u001b[0m \u001b[0;32mdef\u001b[0m \u001b[0mget_vector\u001b[0m\u001b[0;34m(\u001b[0m\u001b[0ms\u001b[0m\u001b[0;34m)\u001b[0m\u001b[0;34m:\u001b[0m\u001b[0;34m\u001b[0m\u001b[0;34m\u001b[0m\u001b[0m\n\u001b[0;32m---> 11\u001b[0;31m     \u001b[0;32mreturn\u001b[0m \u001b[0mnp\u001b[0m\u001b[0;34m.\u001b[0m\u001b[0msum\u001b[0m\u001b[0;34m(\u001b[0m\u001b[0mnp\u001b[0m\u001b[0;34m.\u001b[0m\u001b[0marray\u001b[0m\u001b[0;34m(\u001b[0m\u001b[0;34m[\u001b[0m\u001b[0mmodel\u001b[0m\u001b[0;34m[\u001b[0m\u001b[0mi\u001b[0m\u001b[0;34m]\u001b[0m \u001b[0;32mfor\u001b[0m \u001b[0mi\u001b[0m \u001b[0;32min\u001b[0m \u001b[0mpreprocess\u001b[0m\u001b[0;34m(\u001b[0m\u001b[0ms\u001b[0m\u001b[0;34m)\u001b[0m\u001b[0;34m]\u001b[0m\u001b[0;34m)\u001b[0m\u001b[0;34m,\u001b[0m \u001b[0maxis\u001b[0m\u001b[0;34m=\u001b[0m\u001b[0;36m0\u001b[0m\u001b[0;34m)\u001b[0m\u001b[0;34m\u001b[0m\u001b[0;34m\u001b[0m\u001b[0m\n\u001b[0m",
      "\u001b[0;32m/opt/anaconda3/lib/python3.7/site-packages/gensim/models/keyedvectors.py\u001b[0m in \u001b[0;36m__getitem__\u001b[0;34m(self, key_or_keys)\u001b[0m\n\u001b[1;32m    377\u001b[0m         \"\"\"\n\u001b[1;32m    378\u001b[0m         \u001b[0;32mif\u001b[0m \u001b[0misinstance\u001b[0m\u001b[0;34m(\u001b[0m\u001b[0mkey_or_keys\u001b[0m\u001b[0;34m,\u001b[0m \u001b[0mKEY_TYPES\u001b[0m\u001b[0;34m)\u001b[0m\u001b[0;34m:\u001b[0m\u001b[0;34m\u001b[0m\u001b[0;34m\u001b[0m\u001b[0m\n\u001b[0;32m--> 379\u001b[0;31m             \u001b[0;32mreturn\u001b[0m \u001b[0mself\u001b[0m\u001b[0;34m.\u001b[0m\u001b[0mget_vector\u001b[0m\u001b[0;34m(\u001b[0m\u001b[0mkey_or_keys\u001b[0m\u001b[0;34m)\u001b[0m\u001b[0;34m\u001b[0m\u001b[0;34m\u001b[0m\u001b[0m\n\u001b[0m\u001b[1;32m    380\u001b[0m \u001b[0;34m\u001b[0m\u001b[0m\n\u001b[1;32m    381\u001b[0m         \u001b[0;32mreturn\u001b[0m \u001b[0mvstack\u001b[0m\u001b[0;34m(\u001b[0m\u001b[0;34m[\u001b[0m\u001b[0mself\u001b[0m\u001b[0;34m.\u001b[0m\u001b[0mget_vector\u001b[0m\u001b[0;34m(\u001b[0m\u001b[0mkey\u001b[0m\u001b[0;34m)\u001b[0m \u001b[0;32mfor\u001b[0m \u001b[0mkey\u001b[0m \u001b[0;32min\u001b[0m \u001b[0mkey_or_keys\u001b[0m\u001b[0;34m]\u001b[0m\u001b[0;34m)\u001b[0m\u001b[0;34m\u001b[0m\u001b[0;34m\u001b[0m\u001b[0m\n",
      "\u001b[0;32m/opt/anaconda3/lib/python3.7/site-packages/gensim/models/keyedvectors.py\u001b[0m in \u001b[0;36mget_vector\u001b[0;34m(self, key, norm)\u001b[0m\n\u001b[1;32m    420\u001b[0m \u001b[0;34m\u001b[0m\u001b[0m\n\u001b[1;32m    421\u001b[0m         \"\"\"\n\u001b[0;32m--> 422\u001b[0;31m         \u001b[0mindex\u001b[0m \u001b[0;34m=\u001b[0m \u001b[0mself\u001b[0m\u001b[0;34m.\u001b[0m\u001b[0mget_index\u001b[0m\u001b[0;34m(\u001b[0m\u001b[0mkey\u001b[0m\u001b[0;34m)\u001b[0m\u001b[0;34m\u001b[0m\u001b[0;34m\u001b[0m\u001b[0m\n\u001b[0m\u001b[1;32m    423\u001b[0m         \u001b[0;32mif\u001b[0m \u001b[0mnorm\u001b[0m\u001b[0;34m:\u001b[0m\u001b[0;34m\u001b[0m\u001b[0;34m\u001b[0m\u001b[0m\n\u001b[1;32m    424\u001b[0m             \u001b[0mself\u001b[0m\u001b[0;34m.\u001b[0m\u001b[0mfill_norms\u001b[0m\u001b[0;34m(\u001b[0m\u001b[0;34m)\u001b[0m\u001b[0;34m\u001b[0m\u001b[0;34m\u001b[0m\u001b[0m\n",
      "\u001b[0;32m/opt/anaconda3/lib/python3.7/site-packages/gensim/models/keyedvectors.py\u001b[0m in \u001b[0;36mget_index\u001b[0;34m(self, key, default)\u001b[0m\n\u001b[1;32m    394\u001b[0m             \u001b[0;32mreturn\u001b[0m \u001b[0mdefault\u001b[0m\u001b[0;34m\u001b[0m\u001b[0;34m\u001b[0m\u001b[0m\n\u001b[1;32m    395\u001b[0m         \u001b[0;32melse\u001b[0m\u001b[0;34m:\u001b[0m\u001b[0;34m\u001b[0m\u001b[0;34m\u001b[0m\u001b[0m\n\u001b[0;32m--> 396\u001b[0;31m             \u001b[0;32mraise\u001b[0m \u001b[0mKeyError\u001b[0m\u001b[0;34m(\u001b[0m\u001b[0;34mf\"Key '{key}' not present\"\u001b[0m\u001b[0;34m)\u001b[0m\u001b[0;34m\u001b[0m\u001b[0;34m\u001b[0m\u001b[0m\n\u001b[0m\u001b[1;32m    397\u001b[0m \u001b[0;34m\u001b[0m\u001b[0m\n\u001b[1;32m    398\u001b[0m     \u001b[0;32mdef\u001b[0m \u001b[0mget_vector\u001b[0m\u001b[0;34m(\u001b[0m\u001b[0mself\u001b[0m\u001b[0;34m,\u001b[0m \u001b[0mkey\u001b[0m\u001b[0;34m,\u001b[0m \u001b[0mnorm\u001b[0m\u001b[0;34m=\u001b[0m\u001b[0;32mFalse\u001b[0m\u001b[0;34m)\u001b[0m\u001b[0;34m:\u001b[0m\u001b[0;34m\u001b[0m\u001b[0;34m\u001b[0m\u001b[0m\n",
      "\u001b[0;31mKeyError\u001b[0m: \"Key 'services,' not present\""
     ]
    }
   ],
   "source": [
    "get_vector(data.body[0])"
   ]
  },
  {
   "cell_type": "code",
   "execution_count": 44,
   "metadata": {},
   "outputs": [],
   "source": [
    "from gensim.test.utils import common_corpus, common_dictionary\n",
    "from gensim.models.ldamodel import LdaModel\n",
    "from gensim.models.coherencemodel import CoherenceModel\n",
    "\n",
    "model = LdaModel(common_corpus, 5, common_dictionary)\n",
    "cm = CoherenceModel(model=model, corpus=common_corpus, coherence='u_mass')\n",
    "coherence = cm.get_coherence()  # get coherence value"
   ]
  },
  {
   "cell_type": "code",
   "execution_count": null,
   "metadata": {},
   "outputs": [],
   "source": []
  },
  {
   "cell_type": "code",
   "execution_count": null,
   "metadata": {},
   "outputs": [],
   "source": []
  }
 ],
 "metadata": {
  "kernelspec": {
   "display_name": "Python 3",
   "language": "python",
   "name": "python3"
  },
  "language_info": {
   "codemirror_mode": {
    "name": "ipython",
    "version": 3
   },
   "file_extension": ".py",
   "mimetype": "text/x-python",
   "name": "python",
   "nbconvert_exporter": "python",
   "pygments_lexer": "ipython3",
   "version": "3.7.6"
  }
 },
 "nbformat": 4,
 "nbformat_minor": 4
}
