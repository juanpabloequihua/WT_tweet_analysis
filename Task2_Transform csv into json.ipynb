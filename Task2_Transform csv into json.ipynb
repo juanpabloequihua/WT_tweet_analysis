{
 "cells": [
  {
   "cell_type": "markdown",
   "metadata": {},
   "source": [
    "## Task 2: Convert CSV format into JSON format.\n",
    "-----\n",
    "By Juan Equihua on April 10th, 2022.\n",
    "\n",
    "\n",
    "This notebook contains the necesary steps to convert the data provided in cvs format into the requuested jsoon format. The format converter code is located in the file /json_converter/converter.py\n",
    "\n",
    "----\n"
   ]
  },
  {
   "cell_type": "code",
   "execution_count": null,
   "metadata": {},
   "outputs": [],
   "source": [
    "## Import the necesary code to transform data from CSV into JSON format:\n",
    "import pandas as pd\n",
    "import json\n",
    "from json_converter.converter import *"
   ]
  },
  {
   "cell_type": "code",
   "execution_count": 2,
   "metadata": {},
   "outputs": [],
   "source": [
    "## Input parameters: input csv location and output json location.\n",
    "# NOTE: Columns in the data do not match exactly with json format requested. \n",
    "\n",
    "data_path = './Data/data.csv'\n",
    "output_path_json = './Data/Converted_file.json'\n",
    "data = load_data(data_path)\n"
   ]
  },
  {
   "cell_type": "code",
   "execution_count": 19,
   "metadata": {},
   "outputs": [
    {
     "data": {
      "text/plain": [
       "{'Huawei': {'Twitter': [{'tweet_created:': '22/11/2020',\n",
       "    'tweets': [{'tweet_id': 0,\n",
       "      'type': 'Reposts',\n",
       "      'tweet': \"During the pandemic government workers have delivered vital public services, keeping us safe and secure. After ten years where the real value of pay has fallen, many face hardship. It's time to give them a fair pay rise  add your support 👇 , ,\",\n",
       "      'sentiment': 'positive',\n",
       "      'metrics': [{'total_engagement': 0,\n",
       "        'comments': 0,\n",
       "        'shares': 0,\n",
       "        'likes': 0}],\n",
       "      'url': '...'}]},\n",
       "   {'tweet_created:': '07/05/2021',\n",
       "    'tweets': [{'tweet_id': 1,\n",
       "      'type': 'Reposts',\n",
       "      'tweet': 'I didn’t realize how poor I was until I got a good job. Education and a middle class salary can not undo the long term economic and emotional damage of living most of your life in poverty.',\n",
       "      'sentiment': 'negative',\n",
       "      'metrics': [{'total_engagement': 0,\n",
       "        'comments': 0,\n",
       "        'shares': 0,\n",
       "        'likes': 0}],\n",
       "      'url': '...'}]}]}}"
      ]
     },
     "execution_count": 19,
     "metadata": {},
     "output_type": "execute_result"
    }
   ],
   "source": [
    "## Validate json output format by using only 2 records of the dataset:\n",
    "get_tweet_json(data[:2])"
   ]
  },
  {
   "cell_type": "code",
   "execution_count": 15,
   "metadata": {},
   "outputs": [],
   "source": [
    "## Transform all the data into json format:\n",
    "tweet_json_format = get_tweet_json(data)"
   ]
  },
  {
   "cell_type": "code",
   "execution_count": 16,
   "metadata": {},
   "outputs": [],
   "source": [
    "## Write json into the specified output location:\n",
    "with open(output_path_json, 'w') as file:\n",
    "    json_string = json.dumps(tweet_json_format)\n",
    "    file.write(json_string)"
   ]
  },
  {
   "cell_type": "code",
   "execution_count": null,
   "metadata": {},
   "outputs": [],
   "source": []
  }
 ],
 "metadata": {
  "kernelspec": {
   "display_name": "Python 3",
   "language": "python",
   "name": "python3"
  },
  "language_info": {
   "codemirror_mode": {
    "name": "ipython",
    "version": 3
   },
   "file_extension": ".py",
   "mimetype": "text/x-python",
   "name": "python",
   "nbconvert_exporter": "python",
   "pygments_lexer": "ipython3",
   "version": "3.7.6"
  }
 },
 "nbformat": 4,
 "nbformat_minor": 4
}
